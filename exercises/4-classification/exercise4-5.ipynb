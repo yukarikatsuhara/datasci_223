{
 "cells": [
  {
   "cell_type": "markdown",
   "metadata": {},
   "source": [
    "# Classification on `emnist`\n",
    "\n",
    "## 1. Create `Readme.md` to document your work\n",
    "\n",
    "Explain your choices, process, and outcomes.\n",
    "\n",
    "## 2. Classify ~~all symbols~~ letters a -> g\n",
    "\n",
    "### Subset the data\n",
    "\n",
    "Select only the lowercase letters (a, b, ..., g) for classification\n",
    "\n",
    "### Choose a model\n",
    "\n",
    "Your choice of model! Choose wisely...\n",
    "\n",
    "### Train away!\n",
    "\n",
    "Is do you need to tune any parameters? Is the model expecting data in a different format?\n",
    "\n",
    "### Evaluate the model\n",
    "\n",
    "Evaluate the models on the test set, analyze the confusion matrix to see where the model performs well and where it struggles.\n",
    "\n",
    "### Investigate subsets\n",
    "\n",
    "On which classes does the model perform well? Poorly? Evaluate again, excluding easily confused symbols (such as 'O' and '0').\n",
    "\n",
    "### Improve performance\n",
    "\n",
    "Brainstorm for improving the performance. This could include trying different architectures, adding more layers, changing the loss function, or using data augmentation techniques.\n",
    "\n",
    "## 3. Model showdown: upper vs lowercase on abcXYZ\n",
    "\n",
    "### Subset the data\n",
    "\n",
    "Select out the set of upper- and lowercase (a, b, c, x, y z, A, B, C, X, Y, Z). Note that some of these classes can be confusing (e.g., x and y).\n",
    "\n",
    "### Train and tune models\n",
    "\n",
    "Perform a full model training and hyperparameter tuning.\n",
    "\n",
    "1. Select candidate models, hyperparameter options, and evaluation metric\n",
    "2. Set aside a validation hold-out dataset\n",
    "3. Train models over K splits (use k-fold or train/test split)\n",
    "    1. Split train using k-fold with the number of folds equal to the number of parameter combinations\n",
    "    2. Train on k-fold split\n",
    "    3. Record performance of each set of parameters\n",
    "    4. Use winning set of parameters to train model on full training set\n",
    "    5. Record each model's performance on that split's test set\n",
    "4. Evaluate model performance and promote one model as the winner\n",
    "5. Train winning model on both train + test\n",
    "6. Check model performance on the validation hold-out\n",
    "\n",
    "\n",
    "## 4. (_Optional_) Model comparison: classify even vs odd  ---> Did not try due to the lack of memory\n",
    "\n",
    "**NOTE:** This is a larger dataset (~400k rows) so it will require more memory and time to train models on it. \n",
    "\n",
    "Alternatively, you can train models on smaller subsets of the data to get a feel for which models perform better than others. Then train the winning model on the full dataset and validate against the hold-out.\n",
    "\n",
    "### Subset the data\n",
    "\n",
    "Select only digits and add a column for 'is_even'. Be sure to create a validation hold-out dataset for later.\n",
    "\n",
    "### Build and compare models\n",
    "\n",
    "Train at least two different models, compare the results and choose a winner based on an evaluation metric of your choice."
   ]
  },
  {
   "cell_type": "code",
   "execution_count": 28,
   "metadata": {},
   "outputs": [
    {
     "name": "stdout",
     "output_type": "stream",
     "text": [
      "Note: you may need to restart the kernel to use updated packages.\n"
     ]
    }
   ],
   "source": [
    "%pip install -q emnist pandas pyarrow numpy matplotlib seaborn scikit-learn xgboost tensorflow tqdm\n",
    "%reset -f"
   ]
  },
  {
   "cell_type": "code",
   "execution_count": 1,
   "metadata": {},
   "outputs": [],
   "source": [
    "# Import packages\n",
    "import os\n",
    "import string\n",
    "import random\n",
    "import numpy as np\n",
    "import pandas as pd\n",
    "import matplotlib.pyplot as plt\n",
    "import seaborn as sns\n",
    "import emnist\n",
    "from IPython.display import display, Markdown\n",
    "from tqdm import tqdm\n",
    "\n",
    "\n",
    "# Model evaluation\n",
    "from sklearn.model_selection import train_test_split\n",
    "from sklearn.model_selection import GridSearchCV\n",
    "from sklearn.model_selection import KFold\n",
    "from sklearn.metrics import confusion_matrix, accuracy_score, precision_score, recall_score, f1_score\n",
    "from itertools import product\n",
    "\n",
    "\n",
    "# ML packages\n",
    "# Logistic Regression\n",
    "from sklearn.linear_model import LogisticRegression\n",
    "from sklearn.preprocessing import StandardScaler\n",
    "# XGBoost (SVM)\n",
    "from xgboost import XGBClassifier\n",
    "\n",
    "# Constants\n",
    "SIZE = 28\n",
    "REBUILD = True\n",
    "os.environ['TF_CPP_MIN_LOG_LEVEL'] = '2' # or 3 to suppress all warnings"
   ]
  },
  {
   "cell_type": "code",
   "execution_count": 2,
   "metadata": {},
   "outputs": [],
   "source": [
    "# Define helper functions\n",
    "def int_to_char(label):\n",
    "    \"\"\"Convert an integer label to the corresponding uppercase character.\"\"\"\n",
    "    if label < 10:\n",
    "        return str(label)\n",
    "    elif label < 36:\n",
    "        return chr(label - 10 + ord('A'))\n",
    "    else:\n",
    "        return chr(label - 36 + ord('a'))\n",
    "\n",
    "def show_image(row):\n",
    "    \"\"\"Display a single image and its corresponding label.\"\"\"\n",
    "    image = row['image']\n",
    "    label = row['label']\n",
    "    plt.imshow(image, cmap='gray')\n",
    "    plt.title('Label: ' + int_to_char(label))\n",
    "    plt.axis('off')\n",
    "    plt.show()\n",
    "\n",
    "def show_grid(data, title=None, num_cols=5, figsize=(20, 10)):\n",
    "    \"\"\"\n",
    "    Display a list of images as a grid of num_cols columns.\n",
    "    images: a list of images, each represented as a 28x28 numpy array\n",
    "    labels: a list of labels, one for each image\n",
    "    title: (optional) a title for the plot\n",
    "    num_cols: (optional) number of columns to use in the grid\n",
    "    figsize: (optional) size of the figure\n",
    "    \"\"\"\n",
    "    num_images = len(data)\n",
    "    num_rows = (num_images - 1) // num_cols + 1\n",
    "    fig, axes = plt.subplots(num_rows, num_cols, figsize=figsize)\n",
    "    if title is not None:\n",
    "        fig.suptitle(title, fontsize=16)\n",
    "    for i in range(num_rows):\n",
    "        for j in range(num_cols):\n",
    "            index = i * num_cols + j\n",
    "            if index < num_images:\n",
    "                axes[i, j].imshow(data.iloc[index]['image'], cmap='gray')\n",
    "                axes[i, j].axis('off')\n",
    "                label = int_to_char(data.iloc[index]['label'])\n",
    "                axes[i, j].set_title(label)\n",
    "    plt.show()\n",
    "\n",
    "# Get a random image of a given label from the dataset\n",
    "def get_image_by_label(data, label):\n",
    "    \"\"\"Get a random image of a given label from the dataset.\"\"\"\n",
    "    images = data[data['label'] == label]['image'].tolist()\n",
    "    return random.choice(images)\n",
    "\n",
    "# Plot the training and validation accuracy during the training of a model\n",
    "def plot_accuracy(history):\n",
    "    \"\"\"Plot the training and validation accuracy during the training of a model.\"\"\"\n",
    "    acc = history.history['accuracy']\n",
    "    val_acc = history.history['val_accuracy']\n",
    "    epochs = range(1, len(acc) + 1)\n",
    "    plt.plot(epochs, acc, 'bo', label='Training accuracy')\n",
    "    plt.plot(epochs, val_acc, 'b', label='Validation accuracy')\n",
    "    plt.title('Training and validation accuracy')\n",
    "    plt.xlabel('Epochs')\n",
    "    plt.ylabel('Accuracy')\n",
    "    plt.legend()\n",
    "    plt.show()\n",
    "\n",
    "# Plot the training and validation loss during the training of a model\n",
    "def plot_loss(history):\n",
    "    \"\"\"Plot the training and validation loss during the training of a model.\"\"\"\n",
    "    loss = history.history['loss']\n",
    "    val_loss = history.history['val_loss']\n",
    "    epochs = range(1, len(loss) + 1)\n",
    "    plt.plot(epochs, loss, 'bo', label='Training loss')\n",
    "    plt.plot(epochs, val_loss, 'b', label='Validation loss')\n",
    "    plt.title('Training and validation loss')\n",
    "    plt.xlabel('Epochs')\n",
    "    plt.ylabel('Loss')\n",
    "    plt.legend()\n",
    "    plt.show()\n",
    "\n",
    "# Normalize the pixel values of the images in the dataset to have zero mean and unit variance\n",
    "# This is a common preprocessing step for neural networks, but may not be necessary in all cases\n",
    "def normalize_images(images):\n",
    "    \"\"\"Normalize the pixel values of the images in the dataset to have zero mean and unit variance.\"\"\"\n",
    "    images = np.array(images)\n",
    "    mean = images.mean()\n",
    "    std = images.std()\n",
    "    images = (images - mean) / std\n",
    "    return images.tolist()\n",
    "\n",
    "# Display metrics for a model\n",
    "def display_metrics(task, model_name, metrics_dict):\n",
    "    \"\"\"Display performance metrics and confusion matrix for a model.\"\"\"\n",
    "    metrics_df = pd.DataFrame()\n",
    "    cm_df = pd.DataFrame()\n",
    "    for key, value in metrics_dict[task][model_name].items():\n",
    "            metrics_df[key] = [value]\n",
    "    display(Markdown(f'# Performance Metrics: {model_name}'))\n",
    "    display(metrics_df)\n",
    "\n",
    "\n",
    "def display_metrics_cm(task, model_name, metrics_dict):\n",
    "    \"\"\"Display performance metrics and confusion matrix for a model.\"\"\"\n",
    "    metrics_df = pd.DataFrame()\n",
    "    cm_df = pd.DataFrame()\n",
    "    for key, value in metrics_dict[task][model_name].items():\n",
    "        if type(value) == np.ndarray:\n",
    "            cm_df = pd.DataFrame(value, index=['first letter', 'second letter', 'Other'], columns=['first letter', 'second letter', 'Other'])\n",
    "        else:\n",
    "            metrics_df[key] = [value]\n",
    "    display(Markdown(f'# Performance Metrics: {model_name}'))\n",
    "    display(metrics_df)\n",
    "    display(Markdown(f'# Confusion Matrix: {model_name}'))\n",
    "    display(cm_df)\n"
   ]
  },
  {
   "cell_type": "code",
   "execution_count": 3,
   "metadata": {},
   "outputs": [],
   "source": [
    "# Load data\n",
    "\n",
    "# Extract the training split as images and labels\n",
    "image, label = emnist.extract_training_samples('byclass')\n",
    "\n",
    "# Add columns for each pixel value (28x28 = 784 columns)\n",
    "emnist_train = pd.DataFrame()\n",
    "\n",
    "# Add a column with the image data as a 28x28 array\n",
    "emnist_train['image'] = list(image)\n",
    "emnist_train['image_flat'] = emnist_train['image'].apply(lambda x: np.array(x).reshape(-1))\n",
    "\n",
    "# Add a column showing the label\n",
    "emnist_train['label'] = label\n",
    "\n",
    "# Convert labels to characters\n",
    "class_label = np.array([int_to_char(l) for l in label])\n",
    "\n",
    "# Add a column with the character corresponding to the label\n",
    "emnist_train['class'] = class_label\n",
    "\n",
    "# Repeat for the test split\n",
    "image, label = emnist.extract_test_samples('byclass')\n",
    "class_label = np.array([int_to_char(l) for l in label])\n",
    "emnist_test = pd.DataFrame()\n",
    "emnist_test['image'] = list(image)\n",
    "emnist_test['image_flat'] = emnist_test['image'].apply(lambda x: np.array(x).reshape(-1))\n",
    "emnist_test['label'] = label\n",
    "emnist_test['class'] = class_label\n",
    "\n",
    "# Combine the training and test splits\n",
    "emnist_all = pd.concat([emnist_train, emnist_test], axis=0)\n",
    "\n",
    "# Subset for only digits 0-9\n",
    "digits = emnist_all[emnist_all['label'] < 10]\n",
    "\n",
    "# Subset for lowercase letters\n",
    "lowercase = emnist_all[(emnist_all['class'] >= 'a') & (emnist_all['class'] <= 'z')]\n",
    "uppercase = emnist_all[(emnist_all['class'] >= 'A') & (emnist_all['class'] <= 'Z')]\n",
    "\n",
    "# Subset for upper- and lowercase letters a, b, c, d, e, f, g\n",
    "a2g = emnist_all[(emnist_all['class'].isin(['a', 'b', 'c', 'd', 'e', 'f', 'g']))]\n",
    "\n",
    "# Subset for upper- and lowercase letters a, b, c, x, y, z\n",
    "abcxyz = emnist_all[(emnist_all['class'].isin(['a', 'b', 'c', 'A', 'B', 'C', \\\n",
    "                                               'x', 'y', 'z', 'X', 'Y', 'Z']))]"
   ]
  },
  {
   "cell_type": "code",
   "execution_count": 4,
   "metadata": {},
   "outputs": [
    {
     "data": {
      "text/markdown": [
       "# Dataset Sizes"
      ],
      "text/plain": [
       "<IPython.core.display.Markdown object>"
      ]
     },
     "metadata": {},
     "output_type": "display_data"
    },
    {
     "data": {
      "text/markdown": [
       "**a2g**: 68795"
      ],
      "text/plain": [
       "<IPython.core.display.Markdown object>"
      ]
     },
     "metadata": {},
     "output_type": "display_data"
    },
    {
     "data": {
      "text/markdown": [
       "**abcxyz**: 65926"
      ],
      "text/plain": [
       "<IPython.core.display.Markdown object>"
      ]
     },
     "metadata": {},
     "output_type": "display_data"
    },
    {
     "data": {
      "text/markdown": [
       "**digits**: 402953"
      ],
      "text/plain": [
       "<IPython.core.display.Markdown object>"
      ]
     },
     "metadata": {},
     "output_type": "display_data"
    },
    {
     "data": {
      "text/markdown": [
       "**emnist_all**: 814255"
      ],
      "text/plain": [
       "<IPython.core.display.Markdown object>"
      ]
     },
     "metadata": {},
     "output_type": "display_data"
    }
   ],
   "source": [
    "# Display the size of a2g, abcxyz, digits, and the full dataset\n",
    "display(Markdown(f'# Dataset Sizes'))\n",
    "display(Markdown(f'**a2g**: {len(a2g)}'))\n",
    "display(Markdown(f'**abcxyz**: {len(abcxyz)}'))\n",
    "display(Markdown(f'**digits**: {len(digits)}'))\n",
    "display(Markdown(f'**emnist_all**: {len(emnist_all)}'))"
   ]
  },
  {
   "cell_type": "code",
   "execution_count": 5,
   "metadata": {},
   "outputs": [
    {
     "name": "stderr",
     "output_type": "stream",
     "text": [
      "/usr/local/icsoftware/anaconda3/envs/jupyterhub_base_v1.5/lib/python3.7/site-packages/ipykernel_launcher.py:2: SettingWithCopyWarning: \n",
      "A value is trying to be set on a copy of a slice from a DataFrame.\n",
      "Try using .loc[row_indexer,col_indexer] = value instead\n",
      "\n",
      "See the caveats in the documentation: https://pandas.pydata.org/pandas-docs/stable/user_guide/indexing.html#returning-a-view-versus-a-copy\n",
      "  \n",
      "/usr/local/icsoftware/anaconda3/envs/jupyterhub_base_v1.5/lib/python3.7/site-packages/ipykernel_launcher.py:5: SettingWithCopyWarning: \n",
      "A value is trying to be set on a copy of a slice from a DataFrame.\n",
      "Try using .loc[row_indexer,col_indexer] = value instead\n",
      "\n",
      "See the caveats in the documentation: https://pandas.pydata.org/pandas-docs/stable/user_guide/indexing.html#returning-a-view-versus-a-copy\n",
      "  \"\"\"\n"
     ]
    }
   ],
   "source": [
    "# FIXME: Classify lettters as uppercase/lowercase\n",
    "abcxyz['is_upper'] = abcxyz['class'].isin(['A','B','C','X','Y','Z'])\n",
    "\n",
    "# FIXME: Classify digits as even/odd\n",
    "digits['is_even'] = digits['class'].astype(int)%2==0\n"
   ]
  },
  {
   "cell_type": "code",
   "execution_count": null,
   "metadata": {},
   "outputs": [],
   "source": []
  },
  {
   "cell_type": "code",
   "execution_count": null,
   "metadata": {},
   "outputs": [],
   "source": []
  },
  {
   "cell_type": "markdown",
   "metadata": {},
   "source": [
    "## 2. Classify  a -> g\n",
    "\n",
    "### Subset the data\n",
    "\n",
    "Select only the lowercase letters (a, b, ..., g) for classification"
   ]
  },
  {
   "cell_type": "code",
   "execution_count": 6,
   "metadata": {},
   "outputs": [],
   "source": [
    "# For a preliminary analysis\n",
    "a2g = a2g.sample(n= 8000, replace=False, random_state=42)"
   ]
  },
  {
   "cell_type": "code",
   "execution_count": 7,
   "metadata": {},
   "outputs": [],
   "source": [
    "# If use all data\n",
    "# lowercase_subset = lowercase"
   ]
  },
  {
   "cell_type": "code",
   "execution_count": 8,
   "metadata": {},
   "outputs": [],
   "source": [
    "X = a2g.drop('label',axis=1)\n",
    "y = a2g.label"
   ]
  },
  {
   "cell_type": "code",
   "execution_count": 9,
   "metadata": {},
   "outputs": [],
   "source": [
    "# Hold out the validationset\n",
    "X_train, X_val, y_train,y_val = train_test_split(X, y, test_size= 0.3, random_state=42, stratify=y)"
   ]
  },
  {
   "cell_type": "code",
   "execution_count": 10,
   "metadata": {},
   "outputs": [
    {
     "name": "stdout",
     "output_type": "stream",
     "text": [
      "Training set size: 5600\n",
      "Test set size: 2400\n"
     ]
    }
   ],
   "source": [
    "# Check the size of each dataset\n",
    "print(\"Training set size:\", X_train.shape[0])\n",
    "print(\"Test set size:\", X_val.shape[0])"
   ]
  },
  {
   "cell_type": "code",
   "execution_count": 11,
   "metadata": {},
   "outputs": [
    {
     "data": {
      "text/plain": [
       "array([38, 39, 40, 36, 42, 37, 41], dtype=uint8)"
      ]
     },
     "execution_count": 11,
     "metadata": {},
     "output_type": "execute_result"
    }
   ],
   "source": [
    "y_train.unique()"
   ]
  },
  {
   "cell_type": "code",
   "execution_count": 12,
   "metadata": {},
   "outputs": [],
   "source": [
    "y_train = y_train-36\n",
    "y_val = y_val-36"
   ]
  },
  {
   "cell_type": "markdown",
   "metadata": {},
   "source": [
    "### Choose a model : XGBoost"
   ]
  },
  {
   "cell_type": "markdown",
   "metadata": {},
   "source": [
    "### Train and Evaluate the model"
   ]
  },
  {
   "cell_type": "code",
   "execution_count": 13,
   "metadata": {},
   "outputs": [],
   "source": [
    "# All symbols classifier: XGBoost\n",
    "task = 'the lowercase letters'\n",
    "model_name = 'xgboost'\n",
    "\n",
    "# Initializa XGBoost classifier\n",
    "xgb_clf = XGBClassifier(n_estimators=500,learning_rate= 0.2,max_depth=4,min_child_weight=3, subsample=0.5, gamma=5, random_state=42)\n",
    "\n",
    "\n",
    "# Train and evaluate the model\n",
    "xgb_clf.fit(X_train['image_flat'].tolist(), y_train)\n",
    "y_pred = xgb_clf.predict(X_val['image_flat'].tolist())"
   ]
  },
  {
   "cell_type": "code",
   "execution_count": 14,
   "metadata": {},
   "outputs": [],
   "source": [
    "# Calculate performance metrics\n",
    "acc = accuracy_score(y_val, y_pred)\n",
    "prec = precision_score(y_val, y_pred,average='weighted',zero_division=0)\n",
    "rec = recall_score(y_val, y_pred,average='weighted',zero_division=0)\n",
    "f1 = f1_score(y_val, y_pred,average='weighted',zero_division=0)\n",
    "cm = confusion_matrix(y_val, y_pred)"
   ]
  },
  {
   "cell_type": "code",
   "execution_count": 15,
   "metadata": {},
   "outputs": [],
   "source": [
    "metrics_dict = {\n",
    "    'the lowercase letters': {\n",
    "        'xgboost': {\n",
    "            'accuracy': [],\n",
    "            'precision': [],\n",
    "            'recall': [],\n",
    "            'f1': []\n",
    "        }\n",
    "    }\n",
    "}"
   ]
  },
  {
   "cell_type": "code",
   "execution_count": 16,
   "metadata": {},
   "outputs": [],
   "source": [
    "# Store the results to metrics_dict\n",
    "metrics_dict[task][model_name] = {'accuracy': acc,\n",
    "                                  'precision': prec,\n",
    "                                  'recall': rec,\n",
    "                                  'f1': f1,\n",
    "                                  }"
   ]
  },
  {
   "cell_type": "code",
   "execution_count": 17,
   "metadata": {},
   "outputs": [
    {
     "data": {
      "text/markdown": [
       "# Performance Metrics: xgboost"
      ],
      "text/plain": [
       "<IPython.core.display.Markdown object>"
      ]
     },
     "metadata": {},
     "output_type": "display_data"
    },
    {
     "data": {
      "text/html": [
       "<div>\n",
       "<style scoped>\n",
       "    .dataframe tbody tr th:only-of-type {\n",
       "        vertical-align: middle;\n",
       "    }\n",
       "\n",
       "    .dataframe tbody tr th {\n",
       "        vertical-align: top;\n",
       "    }\n",
       "\n",
       "    .dataframe thead th {\n",
       "        text-align: right;\n",
       "    }\n",
       "</style>\n",
       "<table border=\"1\" class=\"dataframe\">\n",
       "  <thead>\n",
       "    <tr style=\"text-align: right;\">\n",
       "      <th></th>\n",
       "      <th>accuracy</th>\n",
       "      <th>precision</th>\n",
       "      <th>recall</th>\n",
       "      <th>f1</th>\n",
       "    </tr>\n",
       "  </thead>\n",
       "  <tbody>\n",
       "    <tr>\n",
       "      <th>0</th>\n",
       "      <td>0.922083</td>\n",
       "      <td>0.921458</td>\n",
       "      <td>0.922083</td>\n",
       "      <td>0.921049</td>\n",
       "    </tr>\n",
       "  </tbody>\n",
       "</table>\n",
       "</div>"
      ],
      "text/plain": [
       "   accuracy  precision    recall        f1\n",
       "0  0.922083   0.921458  0.922083  0.921049"
      ]
     },
     "metadata": {},
     "output_type": "display_data"
    }
   ],
   "source": [
    "# Display performance metrics\n",
    "display_metrics(task, model_name, metrics_dict)"
   ]
  },
  {
   "cell_type": "code",
   "execution_count": 18,
   "metadata": {},
   "outputs": [
    {
     "data": {
      "image/png": "[encoded data removed]",
      "text/plain": [
       "<Figure size 1000x600 with 1 Axes>"
      ]
     },
     "metadata": {},
     "output_type": "display_data"
    }
   ],
   "source": [
    "# Visualise the performance\n",
    "colors = ['#1f77b4']\n",
    "\n",
    "# create a new figure\n",
    "fig, ax = plt.subplots(figsize=(10, 6))\n",
    "\n",
    "# set the x-axis labels\n",
    "labels = ['accuracy', 'precision', 'recall', 'f1']\n",
    "\n",
    "# iterate over the models in the metrics_dict\n",
    "for i, model in enumerate(metrics_dict['the lowercase letters'].keys()):\n",
    "    # extract the metric values for this model\n",
    "    values = [metrics_dict['the lowercase letters'][model][label] for label in labels]\n",
    "\n",
    "    # plot the values as a line\n",
    "    ax.plot(labels, values, label=model, marker='o', color=colors[i])\n",
    "\n",
    "\n",
    "# add a legend and title\n",
    "ax.legend()\n",
    "ax.set_title('Performance Metrics')\n",
    "\n",
    "# show the plot\n",
    "plt.show()"
   ]
  },
  {
   "cell_type": "markdown",
   "metadata": {},
   "source": [
    "### Investigate subsets\n"
   ]
  },
  {
   "cell_type": "code",
   "execution_count": 19,
   "metadata": {},
   "outputs": [],
   "source": [
    "# Investigate subsets\n",
    "# Make subsets\n",
    "## a and b\n",
    "symbols_list = ['a', 'b']\n",
    "mask_valid = X_val['class'].apply(lambda x: x in symbols_list)\n",
    "valid_01_X = X_val[mask_valid]\n",
    "valid_01_y = y_val[mask_valid]\n",
    "valid_01_X.reset_index(drop=True, inplace=True)\n",
    "\n",
    "## m and n\n",
    "symbols_list = ['c', 'd']\n",
    "mask_valid = X_val['class'].apply(lambda x: x in symbols_list)\n",
    "valid_02_X = X_val[mask_valid]\n",
    "valid_02_y = y_val[mask_valid]\n",
    "valid_02_X.reset_index(drop=True, inplace=True)\n",
    "\n",
    "## u and v\n",
    "symbols_list = ['c', 'e']\n",
    "mask_valid = X_val['class'].apply(lambda x: x in symbols_list)\n",
    "valid_03_X = X_val[mask_valid]\n",
    "valid_03_y = y_val[mask_valid]\n",
    "valid_03_X.reset_index(drop=True, inplace=True)\n",
    "\n"
   ]
  },
  {
   "cell_type": "code",
   "execution_count": 20,
   "metadata": {},
   "outputs": [],
   "source": [
    "metrics_dict_subsets = {\n",
    "    'Investigate_subsets_using_xgboost' : { # task name (Investigate_subsets_using_xgboost)\n",
    "        'a vs b': {\n",
    "            'accuracy': [],\n",
    "            'precision': [],\n",
    "            'recall': [],\n",
    "            'f1': [],\n",
    "            'confusion matrix': []\n",
    "        },\n",
    "        'c vs d': {\n",
    "            'accuracy': [],\n",
    "            'precision': [],\n",
    "            'recall': [],\n",
    "            'f1': [],\n",
    "            'confusion matrix': []\n",
    "        },\n",
    "        'c vs e': {\n",
    "            'accuracy': [],\n",
    "            'precision': [],\n",
    "            'recall': [],\n",
    "            'f1': [],\n",
    "            'confusion matrix': []\n",
    "        }\n",
    "    }\n",
    "}"
   ]
  },
  {
   "cell_type": "code",
   "execution_count": 21,
   "metadata": {},
   "outputs": [
    {
     "data": {
      "text/plain": [
       "{'Investigate_subsets_using_xgboost': {'a vs b': {'accuracy': [],\n",
       "   'precision': [],\n",
       "   'recall': [],\n",
       "   'f1': [],\n",
       "   'confusion matrix': []},\n",
       "  'c vs d': {'accuracy': [],\n",
       "   'precision': [],\n",
       "   'recall': [],\n",
       "   'f1': [],\n",
       "   'confusion matrix': []},\n",
       "  'c vs e': {'accuracy': [],\n",
       "   'precision': [],\n",
       "   'recall': [],\n",
       "   'f1': [],\n",
       "   'confusion matrix': []}}}"
      ]
     },
     "execution_count": 21,
     "metadata": {},
     "output_type": "execute_result"
    }
   ],
   "source": [
    "metrics_dict_subsets"
   ]
  },
  {
   "cell_type": "code",
   "execution_count": 22,
   "metadata": {},
   "outputs": [
    {
     "data": {
      "text/markdown": [
       "# Performance Metrics: a vs b"
      ],
      "text/plain": [
       "<IPython.core.display.Markdown object>"
      ]
     },
     "metadata": {},
     "output_type": "display_data"
    },
    {
     "data": {
      "text/html": [
       "<div>\n",
       "<style scoped>\n",
       "    .dataframe tbody tr th:only-of-type {\n",
       "        vertical-align: middle;\n",
       "    }\n",
       "\n",
       "    .dataframe tbody tr th {\n",
       "        vertical-align: top;\n",
       "    }\n",
       "\n",
       "    .dataframe thead th {\n",
       "        text-align: right;\n",
       "    }\n",
       "</style>\n",
       "<table border=\"1\" class=\"dataframe\">\n",
       "  <thead>\n",
       "    <tr style=\"text-align: right;\">\n",
       "      <th></th>\n",
       "      <th>accuracy</th>\n",
       "      <th>precision</th>\n",
       "      <th>recall</th>\n",
       "      <th>f1</th>\n",
       "    </tr>\n",
       "  </thead>\n",
       "  <tbody>\n",
       "    <tr>\n",
       "      <th>0</th>\n",
       "      <td>0.933754</td>\n",
       "      <td>0.993365</td>\n",
       "      <td>0.933754</td>\n",
       "      <td>0.962595</td>\n",
       "    </tr>\n",
       "  </tbody>\n",
       "</table>\n",
       "</div>"
      ],
      "text/plain": [
       "   accuracy  precision    recall        f1\n",
       "0  0.933754   0.993365  0.933754  0.962595"
      ]
     },
     "metadata": {},
     "output_type": "display_data"
    },
    {
     "data": {
      "text/markdown": [
       "# Confusion Matrix: a vs b"
      ],
      "text/plain": [
       "<IPython.core.display.Markdown object>"
      ]
     },
     "metadata": {},
     "output_type": "display_data"
    },
    {
     "data": {
      "text/html": [
       "<div>\n",
       "<style scoped>\n",
       "    .dataframe tbody tr th:only-of-type {\n",
       "        vertical-align: middle;\n",
       "    }\n",
       "\n",
       "    .dataframe tbody tr th {\n",
       "        vertical-align: top;\n",
       "    }\n",
       "\n",
       "    .dataframe thead th {\n",
       "        text-align: right;\n",
       "    }\n",
       "</style>\n",
       "<table border=\"1\" class=\"dataframe\">\n",
       "  <thead>\n",
       "    <tr style=\"text-align: right;\">\n",
       "      <th></th>\n",
       "      <th>first letter</th>\n",
       "      <th>second letter</th>\n",
       "      <th>Other</th>\n",
       "    </tr>\n",
       "  </thead>\n",
       "  <tbody>\n",
       "    <tr>\n",
       "      <th>first letter</th>\n",
       "      <td>391</td>\n",
       "      <td>3</td>\n",
       "      <td>27</td>\n",
       "    </tr>\n",
       "    <tr>\n",
       "      <th>second letter</th>\n",
       "      <td>1</td>\n",
       "      <td>201</td>\n",
       "      <td>11</td>\n",
       "    </tr>\n",
       "    <tr>\n",
       "      <th>Other</th>\n",
       "      <td>0</td>\n",
       "      <td>0</td>\n",
       "      <td>0</td>\n",
       "    </tr>\n",
       "  </tbody>\n",
       "</table>\n",
       "</div>"
      ],
      "text/plain": [
       "               first letter  second letter  Other\n",
       "first letter            391              3     27\n",
       "second letter             1            201     11\n",
       "Other                     0              0      0"
      ]
     },
     "metadata": {},
     "output_type": "display_data"
    },
    {
     "data": {
      "text/markdown": [
       "# Performance Metrics: c vs d"
      ],
      "text/plain": [
       "<IPython.core.display.Markdown object>"
      ]
     },
     "metadata": {},
     "output_type": "display_data"
    },
    {
     "data": {
      "text/html": [
       "<div>\n",
       "<style scoped>\n",
       "    .dataframe tbody tr th:only-of-type {\n",
       "        vertical-align: middle;\n",
       "    }\n",
       "\n",
       "    .dataframe tbody tr th {\n",
       "        vertical-align: top;\n",
       "    }\n",
       "\n",
       "    .dataframe thead th {\n",
       "        text-align: right;\n",
       "    }\n",
       "</style>\n",
       "<table border=\"1\" class=\"dataframe\">\n",
       "  <thead>\n",
       "    <tr style=\"text-align: right;\">\n",
       "      <th></th>\n",
       "      <th>accuracy</th>\n",
       "      <th>precision</th>\n",
       "      <th>recall</th>\n",
       "      <th>f1</th>\n",
       "    </tr>\n",
       "  </thead>\n",
       "  <tbody>\n",
       "    <tr>\n",
       "      <th>0</th>\n",
       "      <td>0.892644</td>\n",
       "      <td>0.995195</td>\n",
       "      <td>0.892644</td>\n",
       "      <td>0.93882</td>\n",
       "    </tr>\n",
       "  </tbody>\n",
       "</table>\n",
       "</div>"
      ],
      "text/plain": [
       "   accuracy  precision    recall       f1\n",
       "0  0.892644   0.995195  0.892644  0.93882"
      ]
     },
     "metadata": {},
     "output_type": "display_data"
    },
    {
     "data": {
      "text/markdown": [
       "# Confusion Matrix: c vs d"
      ],
      "text/plain": [
       "<IPython.core.display.Markdown object>"
      ]
     },
     "metadata": {},
     "output_type": "display_data"
    },
    {
     "data": {
      "text/html": [
       "<div>\n",
       "<style scoped>\n",
       "    .dataframe tbody tr th:only-of-type {\n",
       "        vertical-align: middle;\n",
       "    }\n",
       "\n",
       "    .dataframe tbody tr th {\n",
       "        vertical-align: top;\n",
       "    }\n",
       "\n",
       "    .dataframe thead th {\n",
       "        text-align: right;\n",
       "    }\n",
       "</style>\n",
       "<table border=\"1\" class=\"dataframe\">\n",
       "  <thead>\n",
       "    <tr style=\"text-align: right;\">\n",
       "      <th></th>\n",
       "      <th>first letter</th>\n",
       "      <th>second letter</th>\n",
       "      <th>Other</th>\n",
       "    </tr>\n",
       "  </thead>\n",
       "  <tbody>\n",
       "    <tr>\n",
       "      <th>first letter</th>\n",
       "      <td>83</td>\n",
       "      <td>1</td>\n",
       "      <td>30</td>\n",
       "    </tr>\n",
       "    <tr>\n",
       "      <th>second letter</th>\n",
       "      <td>1</td>\n",
       "      <td>366</td>\n",
       "      <td>22</td>\n",
       "    </tr>\n",
       "    <tr>\n",
       "      <th>Other</th>\n",
       "      <td>0</td>\n",
       "      <td>0</td>\n",
       "      <td>0</td>\n",
       "    </tr>\n",
       "  </tbody>\n",
       "</table>\n",
       "</div>"
      ],
      "text/plain": [
       "               first letter  second letter  Other\n",
       "first letter             83              1     30\n",
       "second letter             1            366     22\n",
       "Other                     0              0      0"
      ]
     },
     "metadata": {},
     "output_type": "display_data"
    },
    {
     "data": {
      "text/markdown": [
       "# Performance Metrics: c vs e"
      ],
      "text/plain": [
       "<IPython.core.display.Markdown object>"
      ]
     },
     "metadata": {},
     "output_type": "display_data"
    },
    {
     "data": {
      "text/html": [
       "<div>\n",
       "<style scoped>\n",
       "    .dataframe tbody tr th:only-of-type {\n",
       "        vertical-align: middle;\n",
       "    }\n",
       "\n",
       "    .dataframe tbody tr th {\n",
       "        vertical-align: top;\n",
       "    }\n",
       "\n",
       "    .dataframe thead th {\n",
       "        text-align: right;\n",
       "    }\n",
       "</style>\n",
       "<table border=\"1\" class=\"dataframe\">\n",
       "  <thead>\n",
       "    <tr style=\"text-align: right;\">\n",
       "      <th></th>\n",
       "      <th>accuracy</th>\n",
       "      <th>precision</th>\n",
       "      <th>recall</th>\n",
       "      <th>f1</th>\n",
       "    </tr>\n",
       "  </thead>\n",
       "  <tbody>\n",
       "    <tr>\n",
       "      <th>0</th>\n",
       "      <td>0.937279</td>\n",
       "      <td>0.96305</td>\n",
       "      <td>0.937279</td>\n",
       "      <td>0.949599</td>\n",
       "    </tr>\n",
       "  </tbody>\n",
       "</table>\n",
       "</div>"
      ],
      "text/plain": [
       "   accuracy  precision    recall        f1\n",
       "0  0.937279    0.96305  0.937279  0.949599"
      ]
     },
     "metadata": {},
     "output_type": "display_data"
    },
    {
     "data": {
      "text/markdown": [
       "# Confusion Matrix: c vs e"
      ],
      "text/plain": [
       "<IPython.core.display.Markdown object>"
      ]
     },
     "metadata": {},
     "output_type": "display_data"
    },
    {
     "data": {
      "text/html": [
       "<div>\n",
       "<style scoped>\n",
       "    .dataframe tbody tr th:only-of-type {\n",
       "        vertical-align: middle;\n",
       "    }\n",
       "\n",
       "    .dataframe tbody tr th {\n",
       "        vertical-align: top;\n",
       "    }\n",
       "\n",
       "    .dataframe thead th {\n",
       "        text-align: right;\n",
       "    }\n",
       "</style>\n",
       "<table border=\"1\" class=\"dataframe\">\n",
       "  <thead>\n",
       "    <tr style=\"text-align: right;\">\n",
       "      <th></th>\n",
       "      <th>first letter</th>\n",
       "      <th>second letter</th>\n",
       "      <th>Other</th>\n",
       "    </tr>\n",
       "  </thead>\n",
       "  <tbody>\n",
       "    <tr>\n",
       "      <th>first letter</th>\n",
       "      <td>83</td>\n",
       "      <td>25</td>\n",
       "      <td>6</td>\n",
       "    </tr>\n",
       "    <tr>\n",
       "      <th>second letter</th>\n",
       "      <td>14</td>\n",
       "      <td>978</td>\n",
       "      <td>26</td>\n",
       "    </tr>\n",
       "    <tr>\n",
       "      <th>Other</th>\n",
       "      <td>0</td>\n",
       "      <td>0</td>\n",
       "      <td>0</td>\n",
       "    </tr>\n",
       "  </tbody>\n",
       "</table>\n",
       "</div>"
      ],
      "text/plain": [
       "               first letter  second letter  Other\n",
       "first letter             83             25      6\n",
       "second letter            14            978     26\n",
       "Other                     0              0      0"
      ]
     },
     "metadata": {},
     "output_type": "display_data"
    }
   ],
   "source": [
    "# All symbols classifier: XGBoost\n",
    "task = 'Investigate_subsets_using_xgboost'\n",
    "\n",
    "y_pred_01 = xgb_clf.predict(valid_01_X['image_flat'].tolist())\n",
    "y_pred_02 = xgb_clf.predict(valid_02_X['image_flat'].tolist())\n",
    "y_pred_03 = xgb_clf.predict(valid_03_X['image_flat'].tolist())\n",
    "\n",
    "# i vs j\n",
    "## Calculate performance metrics\n",
    "model_name = 'a vs b'\n",
    "acc = accuracy_score(valid_01_y, y_pred_01)\n",
    "prec = precision_score(valid_01_y, y_pred_01,average='weighted',zero_division=0)\n",
    "rec = recall_score(valid_01_y, y_pred_01,average='weighted',zero_division=0)\n",
    "f1 = f1_score(valid_01_y, y_pred_01,average='weighted',zero_division=0)\n",
    "\n",
    "unique = np.unique(valid_01_y)\n",
    "y_pred_01_replaced = np.where(np.isin(y_pred_01, unique), y_pred_01, \"Other\")\n",
    "\n",
    "# Label array to create a confusion matrix\n",
    "# Get unique values from valid_01_y and convert to string type\n",
    "unique_str = unique.astype(str)\n",
    "\n",
    "# Create a list of labels containing 'other\n",
    "labels = np.concatenate((unique_str, ['Other']))\n",
    "\n",
    "# Generate a confusion matrix\n",
    "cm1 = confusion_matrix(valid_01_y.astype(str), y_pred_01_replaced, labels= labels)\n",
    "\n",
    "## Store performance metrics in dictionary\n",
    "metrics_dict_subsets[task][model_name] = {'accuracy' : acc,\n",
    "                                 'precision' : prec,\n",
    "                                 'recall' : rec,\n",
    "                                 'f1' : f1,\n",
    "                                 'confusion matrix': cm1\n",
    "                                 }\n",
    "# Display performance metrics\n",
    "display_metrics_cm(task, model_name, metrics_dict_subsets)\n",
    "\n",
    "# m vs n\n",
    "## Calculate performance metrics\n",
    "model_name = 'c vs d'\n",
    "acc = accuracy_score(valid_02_y, y_pred_02)\n",
    "prec = precision_score(valid_02_y, y_pred_02,average='weighted',zero_division=0)\n",
    "rec = recall_score(valid_02_y, y_pred_02,average='weighted',zero_division=0)\n",
    "f1 = f1_score(valid_02_y, y_pred_02,average='weighted',zero_division=0)\n",
    "\n",
    "unique = np.unique(valid_02_y)\n",
    "y_pred_02_replaced = np.where(np.isin(y_pred_02, unique), y_pred_02, \"Other\")\n",
    "\n",
    "# Label array to create a confusion matrix\n",
    "# Get unique values from valid_01_y and convert to string type\n",
    "unique_str = unique.astype(str)\n",
    "\n",
    "# Create a list of labels containing 'other\n",
    "labels = np.concatenate((unique_str, ['Other']))\n",
    "\n",
    "# Generate a confusion matrix\n",
    "cm2 = confusion_matrix(valid_02_y.astype(str), y_pred_02_replaced, labels= labels)\n",
    "\n",
    "\n",
    "## Store performance metrics in dictionary\n",
    "metrics_dict_subsets[task][model_name] = {'accuracy' : acc,\n",
    "                                 'precision' : prec,\n",
    "                                 'recall' : rec,\n",
    "                                 'f1' : f1,\n",
    "                                 'confusion matrix': cm2\n",
    "                                 }\n",
    "# Display performance metrics\n",
    "display_metrics_cm(task, model_name, metrics_dict_subsets)\n",
    "\n",
    "# u vs v\n",
    "## Calculate performance metrics\n",
    "model_name = 'c vs e'\n",
    "acc = accuracy_score(valid_03_y, y_pred_03)\n",
    "prec = precision_score(valid_03_y, y_pred_03,average='weighted',zero_division=0)\n",
    "rec = recall_score(valid_03_y, y_pred_03,average='weighted',zero_division=0)\n",
    "f1 = f1_score(valid_03_y, y_pred_03,average='weighted',zero_division=0)\n",
    "\n",
    "unique = np.unique(valid_03_y)\n",
    "y_pred_03_replaced = np.where(np.isin(y_pred_03, unique), y_pred_03, \"Other\")\n",
    "\n",
    "# Label array to create a confusion matrix\n",
    "# Get unique values from valid_01_y and convert to string type\n",
    "unique_str = unique.astype(str)\n",
    "\n",
    "# Create a list of labels containing 'other\n",
    "labels = np.concatenate((unique_str, ['Other']))\n",
    "\n",
    "# Generate a confusion matrix\n",
    "cm3 = confusion_matrix(valid_03_y.astype(str), y_pred_03_replaced, labels= labels)\n",
    "\n",
    "\n",
    "## Store performance metrics in dictionary\n",
    "metrics_dict_subsets[task][model_name] = {'accuracy' : acc,\n",
    "                                 'precision' : prec,\n",
    "                                 'recall' : rec,\n",
    "                                 'f1' : f1,\n",
    "                                 'confusion matrix': cm3\n",
    "                                 }\n",
    "\n",
    "# Display performance metrics\n",
    "display_metrics_cm(task, model_name, metrics_dict_subsets)"
   ]
  },
  {
   "cell_type": "markdown",
   "metadata": {},
   "source": [
    "\n",
    "### Improve performance\n",
    "\n",
    "Brainstorm for improving the performance. This could include trying different architectures, adding more layers, changing the loss function, or using data augmentation techniques."
   ]
  },
  {
   "cell_type": "code",
   "execution_count": 23,
   "metadata": {},
   "outputs": [],
   "source": [
    "# 1. Select candidate models, hyperparameter options, and evaluation metric\n",
    "xgb_param_grid = {\n",
    "    'n_estimators': [500,700],\n",
    "    'learning_rate': [0.1, 0.2],\n",
    "    'max_depth': [4,5],\n",
    "    'min_child_weight': [3],\n",
    "    'subsample': [0.5],\n",
    "    'gamma': [3,5],\n",
    "    'random_state' : [42]\n",
    "}\n",
    "\n",
    "xgb_clf = XGBClassifier(n_estimators=500,learning_rate= 0.2,max_depth=4,min_child_weight=3, subsample=0.5, gamma=5, random_state=42)\n",
    "\n",
    "scoring_metric = 'f1'"
   ]
  },
  {
   "cell_type": "code",
   "execution_count": 24,
   "metadata": {},
   "outputs": [],
   "source": [
    "# Define how many folds you want to split on\n",
    "kf = KFold(n_splits=3, shuffle=True, random_state=42)"
   ]
  },
  {
   "cell_type": "code",
   "execution_count": 25,
   "metadata": {},
   "outputs": [],
   "source": [
    "# Set models?\n",
    "models = [\n",
    "    (XGBClassifier(), xgb_param_grid)\n",
    "]\n",
    "\n",
    "# Initialize best score and best model\n",
    "best_score = 0\n",
    "best_model = None"
   ]
  },
  {
   "cell_type": "code",
   "execution_count": 26,
   "metadata": {},
   "outputs": [
    {
     "name": "stderr",
     "output_type": "stream",
     "text": [
      "Models:   0%|          | 0/1 [00:00<?, ?it/s]\n",
      "Param Combinations: 0it [00:00, ?it/s]\u001b[A\n",
      "Param Combinations: 1it [01:25, 85.91s/it]\u001b[A\n",
      "Param Combinations: 2it [02:55, 88.22s/it]\u001b[A\n",
      "Param Combinations: 3it [04:41, 96.16s/it]\u001b[A\n",
      "Param Combinations: 4it [06:37, 104.04s/it]\u001b[A\n",
      "Param Combinations: 5it [08:06, 98.52s/it] \u001b[A\n",
      "Param Combinations: 6it [09:39, 96.67s/it]\u001b[A\n",
      "Param Combinations: 7it [11:21, 98.56s/it]\u001b[A\n",
      "Param Combinations: 8it [13:10, 101.66s/it]\u001b[A\n",
      "Param Combinations: 9it [15:12, 108.20s/it]\u001b[A\n",
      "Param Combinations: 10it [17:15, 112.59s/it]\u001b[A\n",
      "Param Combinations: 11it [19:46, 124.60s/it]\u001b[A\n",
      "Param Combinations: 12it [22:22, 134.12s/it]\u001b[A\n",
      "Param Combinations: 13it [24:27, 131.19s/it]\u001b[A\n",
      "Param Combinations: 14it [26:37, 130.81s/it]\u001b[A\n",
      "Param Combinations: 15it [29:06, 136.40s/it]\u001b[A\n",
      "Param Combinations: 16it [31:40, 141.66s/it]\u001b[A\n",
      "Models: 100%|██████████| 1/1 [31:40<00:00, 1900.38s/it]"
     ]
    },
    {
     "name": "stdout",
     "output_type": "stream",
     "text": [
      "Best Model: XGBClassifier(base_score=0.5, booster='gbtree', callbacks=None,\n",
      "              colsample_bylevel=1, colsample_bynode=1, colsample_bytree=1,\n",
      "              early_stopping_rounds=None, enable_categorical=False,\n",
      "              eval_metric=None, gamma=5, gpu_id=-1, grow_policy='depthwise',\n",
      "              importance_type=None, interaction_constraints='',\n",
      "              learning_rate=0.2, max_bin=256, max_cat_to_onehot=4,\n",
      "              max_delta_step=0, max_depth=5, max_leaves=0, min_child_weight=3,\n",
      "              missing=nan, monotone_constraints='()', n_estimators=700,\n",
      "              n_jobs=0, num_parallel_tree=1, objective='multi:softprob',\n",
      "              predictor='auto', random_state=42, reg_alpha=0, ...)\n"
     ]
    },
    {
     "name": "stderr",
     "output_type": "stream",
     "text": [
      "\n"
     ]
    }
   ],
   "source": [
    "for model, param_grid in tqdm(models, desc=\"Models\"):\n",
    "    for param_combination in tqdm(product(*param_grid.values()), desc=\"Param Combinations\", leave=False):\n",
    "        param_dict = dict(zip(param_grid.keys(), param_combination))\n",
    "        model.set_params(**param_dict)\n",
    "        fold_scores = []\n",
    "\n",
    "        # 3.A. Split train using k-fold with the number of folds\n",
    "        # equal to the number of parameter combinations\n",
    "        for train_index, test_index in kf.split(X_train):\n",
    "            X_fold_train, X_fold_test = X_train.iloc[train_index], X_train.iloc[test_index]\n",
    "            y_fold_train, y_fold_test = y_train.iloc[train_index], y_train.iloc[test_index]\n",
    "\n",
    "            # 3.B. Train on k-fold split\n",
    "            model.fit(X_fold_train['image_flat'].tolist(), y_fold_train)\n",
    "            # 3.C. Record performance of each set of parameters\n",
    "            y_pred = model.predict(X_fold_test['image_flat'].tolist())\n",
    "            fold_score = f1_score(y_fold_test, y_pred, average='weighted', zero_division=0)\n",
    "            fold_scores.append(fold_score)\n",
    "\n",
    "        # 3.D. Use the winning set of parameters to train the model on the full training set\n",
    "        avg_score = np.mean(fold_scores)\n",
    "        if avg_score > best_score:\n",
    "            best_score = avg_score\n",
    "            best_model = model\n",
    "\n",
    "# Print the best model\n",
    "print(\"Best Model:\", best_model)"
   ]
  },
  {
   "cell_type": "code",
   "execution_count": 27,
   "metadata": {},
   "outputs": [
    {
     "data": {
      "text/plain": [
       "{'objective': 'multi:softprob',\n",
       " 'use_label_encoder': False,\n",
       " 'base_score': 0.5,\n",
       " 'booster': 'gbtree',\n",
       " 'callbacks': None,\n",
       " 'colsample_bylevel': 1,\n",
       " 'colsample_bynode': 1,\n",
       " 'colsample_bytree': 1,\n",
       " 'early_stopping_rounds': None,\n",
       " 'enable_categorical': False,\n",
       " 'eval_metric': None,\n",
       " 'gamma': 5,\n",
       " 'gpu_id': -1,\n",
       " 'grow_policy': 'depthwise',\n",
       " 'importance_type': None,\n",
       " 'interaction_constraints': '',\n",
       " 'learning_rate': 0.2,\n",
       " 'max_bin': 256,\n",
       " 'max_cat_to_onehot': 4,\n",
       " 'max_delta_step': 0,\n",
       " 'max_depth': 5,\n",
       " 'max_leaves': 0,\n",
       " 'min_child_weight': 3,\n",
       " 'missing': nan,\n",
       " 'monotone_constraints': '()',\n",
       " 'n_estimators': 700,\n",
       " 'n_jobs': 0,\n",
       " 'num_parallel_tree': 1,\n",
       " 'predictor': 'auto',\n",
       " 'random_state': 42,\n",
       " 'reg_alpha': 0,\n",
       " 'reg_lambda': 1,\n",
       " 'sampling_method': 'uniform',\n",
       " 'scale_pos_weight': None,\n",
       " 'subsample': 0.5,\n",
       " 'tree_method': 'exact',\n",
       " 'validate_parameters': 1,\n",
       " 'verbosity': None}"
      ]
     },
     "execution_count": 27,
     "metadata": {},
     "output_type": "execute_result"
    }
   ],
   "source": [
    "# Get all parameters of the best model\n",
    "best_model.get_params()"
   ]
  },
  {
   "cell_type": "code",
   "execution_count": 28,
   "metadata": {},
   "outputs": [
    {
     "data": {
      "text/plain": [
       "XGBClassifier(base_score=0.5, booster='gbtree', callbacks=None,\n",
       "              colsample_bylevel=1, colsample_bynode=1, colsample_bytree=1,\n",
       "              early_stopping_rounds=None, enable_categorical=False,\n",
       "              eval_metric=None, gamma=5, gpu_id=-1, grow_policy='depthwise',\n",
       "              importance_type=None, interaction_constraints='',\n",
       "              learning_rate=0.2, max_bin=256, max_cat_to_onehot=4,\n",
       "              max_delta_step=0, max_depth=5, max_leaves=0, min_child_weight=3,\n",
       "              missing=nan, monotone_constraints='()', n_estimators=700,\n",
       "              n_jobs=0, num_parallel_tree=1, objective='multi:softprob',\n",
       "              predictor='auto', random_state=42, reg_alpha=0, ...)"
      ]
     },
     "execution_count": 28,
     "metadata": {},
     "output_type": "execute_result"
    }
   ],
   "source": [
    "# Train the model on the all train data\n",
    "best_model.fit(X_train['image_flat'].tolist(), y_train)"
   ]
  },
  {
   "cell_type": "code",
   "execution_count": 29,
   "metadata": {},
   "outputs": [],
   "source": [
    "# Record each model's performance on that split's test set\n",
    "y_val_pred = best_model.predict(X_val['image_flat'].tolist())"
   ]
  },
  {
   "cell_type": "code",
   "execution_count": 30,
   "metadata": {},
   "outputs": [],
   "source": [
    "# Calculate performance metrics\n",
    "acc = accuracy_score(y_val, y_val_pred)\n",
    "prec = precision_score(y_val, y_val_pred,average='weighted',zero_division=0)\n",
    "rec = recall_score(y_val, y_val_pred,average='weighted',zero_division=0)\n",
    "f1 = f1_score(y_val, y_val_pred,average='weighted',zero_division=0)\n",
    "cm = confusion_matrix(y_val, y_val_pred)"
   ]
  },
  {
   "cell_type": "code",
   "execution_count": 31,
   "metadata": {},
   "outputs": [],
   "source": [
    "task = \"the letters-> a to g\"\n",
    "model_name = \"xgboost\""
   ]
  },
  {
   "cell_type": "code",
   "execution_count": 32,
   "metadata": {},
   "outputs": [],
   "source": [
    "metrics_dict = {\n",
    "    'the letters-> a to g': {\n",
    "        'xgboost': {\n",
    "            'accuracy': [],\n",
    "            'precision': [],\n",
    "            'recall': [],\n",
    "            'f1': []\n",
    "        }\n",
    "    }\n",
    "}"
   ]
  },
  {
   "cell_type": "code",
   "execution_count": 33,
   "metadata": {},
   "outputs": [],
   "source": [
    "# Store the results to metrics_dict\n",
    "metrics_dict[task][model_name] = {'accuracy': acc,\n",
    "                                  'precision': prec,\n",
    "                                  'recall': rec,\n",
    "                                  'f1': f1,\n",
    "                                  }"
   ]
  },
  {
   "cell_type": "code",
   "execution_count": 34,
   "metadata": {},
   "outputs": [
    {
     "data": {
      "text/markdown": [
       "# Performance Metrics: xgboost"
      ],
      "text/plain": [
       "<IPython.core.display.Markdown object>"
      ]
     },
     "metadata": {},
     "output_type": "display_data"
    },
    {
     "data": {
      "text/html": [
       "<div>\n",
       "<style scoped>\n",
       "    .dataframe tbody tr th:only-of-type {\n",
       "        vertical-align: middle;\n",
       "    }\n",
       "\n",
       "    .dataframe tbody tr th {\n",
       "        vertical-align: top;\n",
       "    }\n",
       "\n",
       "    .dataframe thead th {\n",
       "        text-align: right;\n",
       "    }\n",
       "</style>\n",
       "<table border=\"1\" class=\"dataframe\">\n",
       "  <thead>\n",
       "    <tr style=\"text-align: right;\">\n",
       "      <th></th>\n",
       "      <th>accuracy</th>\n",
       "      <th>precision</th>\n",
       "      <th>recall</th>\n",
       "      <th>f1</th>\n",
       "    </tr>\n",
       "  </thead>\n",
       "  <tbody>\n",
       "    <tr>\n",
       "      <th>0</th>\n",
       "      <td>0.925417</td>\n",
       "      <td>0.924747</td>\n",
       "      <td>0.925417</td>\n",
       "      <td>0.924652</td>\n",
       "    </tr>\n",
       "  </tbody>\n",
       "</table>\n",
       "</div>"
      ],
      "text/plain": [
       "   accuracy  precision    recall        f1\n",
       "0  0.925417   0.924747  0.925417  0.924652"
      ]
     },
     "metadata": {},
     "output_type": "display_data"
    }
   ],
   "source": [
    "# Display performance metrics\n",
    "display_metrics(task, model_name, metrics_dict)"
   ]
  },
  {
   "cell_type": "code",
   "execution_count": null,
   "metadata": {},
   "outputs": [],
   "source": []
  },
  {
   "cell_type": "code",
   "execution_count": null,
   "metadata": {},
   "outputs": [],
   "source": []
  },
  {
   "cell_type": "markdown",
   "metadata": {},
   "source": [
    "## 3. Model showdown: upper vs lowercase on abcXYZ\n",
    "\n",
    "### Subset the data\n",
    "\n",
    "Select out the set of upper- and lowercase (a, b, c, x, y z, A, B, C, X, Y, Z). Note that some of these classes can be confusing (e.g., x and y).\n"
   ]
  },
  {
   "cell_type": "code",
   "execution_count": 35,
   "metadata": {},
   "outputs": [
    {
     "data": {
      "text/html": [
       "<div>\n",
       "<style scoped>\n",
       "    .dataframe tbody tr th:only-of-type {\n",
       "        vertical-align: middle;\n",
       "    }\n",
       "\n",
       "    .dataframe tbody tr th {\n",
       "        vertical-align: top;\n",
       "    }\n",
       "\n",
       "    .dataframe thead th {\n",
       "        text-align: right;\n",
       "    }\n",
       "</style>\n",
       "<table border=\"1\" class=\"dataframe\">\n",
       "  <thead>\n",
       "    <tr style=\"text-align: right;\">\n",
       "      <th></th>\n",
       "      <th>image</th>\n",
       "      <th>image_flat</th>\n",
       "      <th>label</th>\n",
       "      <th>class</th>\n",
       "      <th>is_upper</th>\n",
       "    </tr>\n",
       "  </thead>\n",
       "  <tbody>\n",
       "    <tr>\n",
       "      <th>0</th>\n",
       "      <td>[[0, 0, 0, 0, 0, 0, 0, 0, 0, 0, 0, 0, 0, 0, 0,...</td>\n",
       "      <td>[0, 0, 0, 0, 0, 0, 0, 0, 0, 0, 0, 0, 0, 0, 0, ...</td>\n",
       "      <td>35</td>\n",
       "      <td>Z</td>\n",
       "      <td>True</td>\n",
       "    </tr>\n",
       "    <tr>\n",
       "      <th>1</th>\n",
       "      <td>[[0, 0, 0, 0, 0, 0, 0, 0, 0, 0, 0, 0, 0, 0, 0,...</td>\n",
       "      <td>[0, 0, 0, 0, 0, 0, 0, 0, 0, 0, 0, 0, 0, 0, 0, ...</td>\n",
       "      <td>36</td>\n",
       "      <td>a</td>\n",
       "      <td>False</td>\n",
       "    </tr>\n",
       "    <tr>\n",
       "      <th>5</th>\n",
       "      <td>[[0, 0, 0, 0, 0, 0, 0, 0, 0, 0, 0, 0, 0, 0, 0,...</td>\n",
       "      <td>[0, 0, 0, 0, 0, 0, 0, 0, 0, 0, 0, 0, 0, 0, 0, ...</td>\n",
       "      <td>38</td>\n",
       "      <td>c</td>\n",
       "      <td>False</td>\n",
       "    </tr>\n",
       "    <tr>\n",
       "      <th>40</th>\n",
       "      <td>[[0, 0, 0, 0, 0, 0, 0, 0, 0, 0, 0, 0, 0, 0, 0,...</td>\n",
       "      <td>[0, 0, 0, 0, 0, 0, 0, 0, 0, 0, 0, 0, 0, 0, 0, ...</td>\n",
       "      <td>12</td>\n",
       "      <td>C</td>\n",
       "      <td>True</td>\n",
       "    </tr>\n",
       "    <tr>\n",
       "      <th>43</th>\n",
       "      <td>[[0, 0, 0, 0, 0, 0, 0, 0, 0, 0, 0, 0, 0, 0, 0,...</td>\n",
       "      <td>[0, 0, 0, 0, 0, 0, 0, 0, 0, 0, 0, 0, 0, 0, 0, ...</td>\n",
       "      <td>59</td>\n",
       "      <td>x</td>\n",
       "      <td>False</td>\n",
       "    </tr>\n",
       "  </tbody>\n",
       "</table>\n",
       "</div>"
      ],
      "text/plain": [
       "                                                image  \\\n",
       "0   [[0, 0, 0, 0, 0, 0, 0, 0, 0, 0, 0, 0, 0, 0, 0,...   \n",
       "1   [[0, 0, 0, 0, 0, 0, 0, 0, 0, 0, 0, 0, 0, 0, 0,...   \n",
       "5   [[0, 0, 0, 0, 0, 0, 0, 0, 0, 0, 0, 0, 0, 0, 0,...   \n",
       "40  [[0, 0, 0, 0, 0, 0, 0, 0, 0, 0, 0, 0, 0, 0, 0,...   \n",
       "43  [[0, 0, 0, 0, 0, 0, 0, 0, 0, 0, 0, 0, 0, 0, 0,...   \n",
       "\n",
       "                                           image_flat  label class  is_upper  \n",
       "0   [0, 0, 0, 0, 0, 0, 0, 0, 0, 0, 0, 0, 0, 0, 0, ...     35     Z      True  \n",
       "1   [0, 0, 0, 0, 0, 0, 0, 0, 0, 0, 0, 0, 0, 0, 0, ...     36     a     False  \n",
       "5   [0, 0, 0, 0, 0, 0, 0, 0, 0, 0, 0, 0, 0, 0, 0, ...     38     c     False  \n",
       "40  [0, 0, 0, 0, 0, 0, 0, 0, 0, 0, 0, 0, 0, 0, 0, ...     12     C      True  \n",
       "43  [0, 0, 0, 0, 0, 0, 0, 0, 0, 0, 0, 0, 0, 0, 0, ...     59     x     False  "
      ]
     },
     "execution_count": 35,
     "metadata": {},
     "output_type": "execute_result"
    }
   ],
   "source": [
    "abcxyz.head(5)"
   ]
  },
  {
   "cell_type": "code",
   "execution_count": 36,
   "metadata": {},
   "outputs": [],
   "source": [
    "# For a preliminary analysis\n",
    "abcxyz = abcxyz.sample(n= 8000, replace=False, random_state=42)"
   ]
  },
  {
   "cell_type": "markdown",
   "metadata": {},
   "source": [
    "### Train and tune models\n",
    "\n",
    "Perform a full model training and hyperparameter tuning.\n",
    "\n",
    "1. Select candidate models, hyperparameter options, and evaluation metric\n",
    "2. Set aside a validation hold-out dataset\n",
    "3. Train models over K splits (use k-fold or train/test split)\n",
    "    1. Split train using k-fold with the number of folds equal to the number of parameter combinations\n",
    "    2. Train on k-fold split\n",
    "    3. Record performance of each set of parameters\n",
    "    4. Use winning set of parameters to train model on full training set\n",
    "    5. Record each model's performance on that split's test set\n",
    "4. Evaluate model performance and promote one model as the winner\n",
    "5. Train winning model on both train + test\n",
    "6. Check model performance on the validation hold-out\n"
   ]
  },
  {
   "cell_type": "code",
   "execution_count": 37,
   "metadata": {},
   "outputs": [],
   "source": [
    "# 1. Select candidate models, hyperparameter options, and evaluation metric\n",
    "\n",
    "xgb_param_grid = {\n",
    "    'n_estimators': [500,700],\n",
    "    'learning_rate': [0.1, 0.2],\n",
    "    'max_depth': [4,5],\n",
    "    'min_child_weight': [3],\n",
    "    'subsample': [0.5],\n",
    "    'gamma': [3,5],\n",
    "    'random_state' : [42]\n",
    "}\n",
    "\n",
    "\n",
    "lr_param_grid = {\n",
    "    'C': [0.01, 0.1, 1],\n",
    "    'max_iter': [1000,1500],\n",
    "    'solver':['saga'],\n",
    "    'random_state' : [42]\n",
    "}\n",
    "\n",
    "\n",
    "scoring_metric = 'f1'"
   ]
  },
  {
   "cell_type": "code",
   "execution_count": 38,
   "metadata": {},
   "outputs": [],
   "source": [
    "# 2. Set aside a validation hold-out dataset\n",
    "X = abcxyz.drop('is_upper',axis=1)\n",
    "y = abcxyz.is_upper\n",
    "\n",
    "X_train, X_val, y_train,y_val = train_test_split(X, y, test_size= 0.3, random_state=42, stratify=y)"
   ]
  },
  {
   "cell_type": "code",
   "execution_count": 39,
   "metadata": {},
   "outputs": [
    {
     "name": "stderr",
     "output_type": "stream",
     "text": [
      "Models:   0%|          | 0/2 [00:00<?, ?it/s]\n",
      "Param Combinations:   0%|          | 0/16 [00:00<?, ?it/s]\u001b[A\n",
      "\n",
      "K-Folds: 0it [00:00, ?it/s]\u001b[A\u001b[A\n",
      "\n",
      "K-Folds: 1it [00:10, 10.01s/it]\u001b[A\u001b[A\n",
      "\n",
      "K-Folds: 2it [00:17,  8.31s/it]\u001b[A\u001b[A\n",
      "\n",
      "K-Folds: 3it [00:25,  8.49s/it]\u001b[A\u001b[A\n",
      "\n",
      "                               \u001b[A\u001b[A\n",
      "Param Combinations:   6%|▋         | 1/16 [00:25<06:27, 25.84s/it]\u001b[A\n",
      "\n",
      "K-Folds: 0it [00:00, ?it/s]\u001b[A\u001b[A\n",
      "\n",
      "K-Folds: 1it [00:07,  7.10s/it]\u001b[A\u001b[A\n",
      "\n",
      "K-Folds: 2it [00:14,  7.46s/it]\u001b[A\u001b[A\n",
      "\n",
      "K-Folds: 3it [00:21,  7.26s/it]\u001b[A\u001b[A\n",
      "\n",
      "                               \u001b[A\u001b[A\n",
      "Param Combinations:  12%|█▎        | 2/16 [00:47<05:28, 23.49s/it]\u001b[A\n",
      "\n",
      "K-Folds: 0it [00:00, ?it/s]\u001b[A\u001b[A\n",
      "\n",
      "K-Folds: 1it [00:08,  8.59s/it]\u001b[A\u001b[A\n",
      "\n",
      "K-Folds: 2it [00:17,  8.49s/it]\u001b[A\u001b[A\n",
      "\n",
      "K-Folds: 3it [00:28,  9.91s/it]\u001b[A\u001b[A\n",
      "\n",
      "                               \u001b[A\u001b[A\n",
      "Param Combinations:  19%|█▉        | 3/16 [01:16<05:35, 25.84s/it]\u001b[A\n",
      "\n",
      "K-Folds: 0it [00:00, ?it/s]\u001b[A\u001b[A\n",
      "\n",
      "K-Folds: 1it [00:09,  9.75s/it]\u001b[A\u001b[A\n",
      "\n",
      "K-Folds: 2it [00:18,  8.98s/it]\u001b[A\u001b[A\n",
      "\n",
      "K-Folds: 3it [00:26,  8.62s/it]\u001b[A\u001b[A\n",
      "\n",
      "                               \u001b[A\u001b[A\n",
      "Param Combinations:  25%|██▌       | 4/16 [01:42<05:12, 26.06s/it]\u001b[A\n",
      "\n",
      "K-Folds: 0it [00:00, ?it/s]\u001b[A\u001b[A\n",
      "\n",
      "K-Folds: 1it [00:07,  7.91s/it]\u001b[A\u001b[A\n",
      "\n",
      "K-Folds: 2it [00:14,  7.17s/it]\u001b[A\u001b[A\n",
      "\n",
      "K-Folds: 3it [00:23,  7.98s/it]\u001b[A\u001b[A\n",
      "\n",
      "                               \u001b[A\u001b[A\n",
      "Param Combinations:  31%|███▏      | 5/16 [02:06<04:36, 25.14s/it]\u001b[A\n",
      "\n",
      "K-Folds: 0it [00:00, ?it/s]\u001b[A\u001b[A\n",
      "\n",
      "K-Folds: 1it [00:07,  7.01s/it]\u001b[A\u001b[A\n",
      "\n",
      "K-Folds: 2it [00:17,  8.77s/it]\u001b[A\u001b[A\n",
      "\n",
      "K-Folds: 3it [00:24,  8.39s/it]\u001b[A\u001b[A\n",
      "\n",
      "                               \u001b[A\u001b[A\n",
      "Param Combinations:  38%|███▊      | 6/16 [02:31<04:10, 25.08s/it]\u001b[A\n",
      "\n",
      "K-Folds: 0it [00:00, ?it/s]\u001b[A\u001b[A\n",
      "\n",
      "K-Folds: 1it [00:08,  8.40s/it]\u001b[A\u001b[A\n",
      "\n",
      "K-Folds: 2it [00:17,  8.86s/it]\u001b[A\u001b[A\n",
      "\n",
      "K-Folds: 3it [00:27,  9.37s/it]\u001b[A\u001b[A\n",
      "\n",
      "                               \u001b[A\u001b[A\n",
      "Param Combinations:  44%|████▍     | 7/16 [02:58<03:53, 25.89s/it]\u001b[A\n",
      "\n",
      "K-Folds: 0it [00:00, ?it/s]\u001b[A\u001b[A\n",
      "\n",
      "K-Folds: 1it [00:08,  8.35s/it]\u001b[A\u001b[A\n",
      "\n",
      "K-Folds: 2it [00:17,  9.02s/it]\u001b[A\u001b[A\n",
      "\n",
      "K-Folds: 3it [00:29, 10.24s/it]\u001b[A\u001b[A\n",
      "\n",
      "                               \u001b[A\u001b[A\n",
      "Param Combinations:  50%|█████     | 8/16 [03:28<03:36, 27.06s/it]\u001b[A\n",
      "\n",
      "K-Folds: 0it [00:00, ?it/s]\u001b[A\u001b[A\n",
      "\n",
      "K-Folds: 1it [00:10, 10.40s/it]\u001b[A\u001b[A\n",
      "\n",
      "K-Folds: 2it [00:20, 10.47s/it]\u001b[A\u001b[A\n",
      "\n",
      "K-Folds: 3it [00:31, 10.67s/it]\u001b[A\u001b[A\n",
      "\n",
      "                               \u001b[A\u001b[A\n",
      "Param Combinations:  56%|█████▋    | 9/16 [04:00<03:19, 28.55s/it]\u001b[A\n",
      "\n",
      "K-Folds: 0it [00:00, ?it/s]\u001b[A\u001b[A\n",
      "\n",
      "K-Folds: 1it [00:11, 11.85s/it]\u001b[A\u001b[A\n",
      "\n",
      "K-Folds: 2it [00:22, 11.38s/it]\u001b[A\u001b[A\n",
      "\n",
      "K-Folds: 3it [00:36, 12.61s/it]\u001b[A\u001b[A\n",
      "\n",
      "                               \u001b[A\u001b[A\n",
      "Param Combinations:  62%|██████▎   | 10/16 [04:37<03:06, 31.16s/it]\u001b[A\n",
      "\n",
      "K-Folds: 0it [00:00, ?it/s]\u001b[A\u001b[A\n",
      "\n",
      "K-Folds: 1it [00:12, 12.02s/it]\u001b[A\u001b[A\n",
      "\n",
      "K-Folds: 2it [00:24, 12.31s/it]\u001b[A\u001b[A\n",
      "\n",
      "K-Folds: 3it [00:36, 12.03s/it]\u001b[A\u001b[A\n",
      "\n",
      "                               \u001b[A\u001b[A\n",
      "Param Combinations:  69%|██████▉   | 11/16 [05:13<02:43, 32.71s/it]\u001b[A\n",
      "\n",
      "K-Folds: 0it [00:00, ?it/s]\u001b[A\u001b[A\n",
      "\n",
      "K-Folds: 1it [00:13, 13.48s/it]\u001b[A\u001b[A\n",
      "\n",
      "K-Folds: 2it [00:30, 15.37s/it]\u001b[A\u001b[A\n",
      "\n",
      "K-Folds: 3it [00:42, 13.90s/it]\u001b[A\u001b[A\n",
      "\n",
      "                               \u001b[A\u001b[A\n",
      "Param Combinations:  75%|███████▌  | 12/16 [05:55<02:22, 35.64s/it]\u001b[A\n",
      "\n",
      "K-Folds: 0it [00:00, ?it/s]\u001b[A\u001b[A\n",
      "\n",
      "K-Folds: 1it [00:11, 11.07s/it]\u001b[A\u001b[A\n",
      "\n",
      "K-Folds: 2it [00:21, 10.70s/it]\u001b[A\u001b[A\n",
      "\n",
      "K-Folds: 3it [00:32, 10.88s/it]\u001b[A\u001b[A\n",
      "\n",
      "                               \u001b[A\u001b[A\n",
      "Param Combinations:  81%|████████▏ | 13/16 [06:28<01:44, 34.73s/it]\u001b[A\n",
      "\n",
      "K-Folds: 0it [00:00, ?it/s]\u001b[A\u001b[A\n",
      "\n",
      "K-Folds: 1it [00:10, 10.68s/it]\u001b[A\u001b[A\n",
      "\n",
      "K-Folds: 2it [00:25, 13.38s/it]\u001b[A\u001b[A\n",
      "\n",
      "K-Folds: 3it [00:37, 12.34s/it]\u001b[A\u001b[A\n",
      "\n",
      "                               \u001b[A\u001b[A\n",
      "Param Combinations:  88%|████████▊ | 14/16 [07:05<01:10, 35.44s/it]\u001b[A\n",
      "\n",
      "K-Folds: 0it [00:00, ?it/s]\u001b[A\u001b[A\n",
      "\n",
      "K-Folds: 1it [00:11, 11.64s/it]\u001b[A\u001b[A\n",
      "\n",
      "K-Folds: 2it [00:24, 12.14s/it]\u001b[A\u001b[A\n",
      "\n",
      "K-Folds: 3it [00:35, 11.82s/it]\u001b[A\u001b[A\n",
      "\n",
      "                               \u001b[A\u001b[A\n",
      "Param Combinations:  94%|█████████▍| 15/16 [07:40<00:35, 35.48s/it]\u001b[A\n",
      "\n",
      "K-Folds: 0it [00:00, ?it/s]\u001b[A\u001b[A\n",
      "\n",
      "K-Folds: 1it [00:15, 15.50s/it]\u001b[A\u001b[A\n",
      "\n",
      "K-Folds: 2it [00:27, 13.52s/it]\u001b[A\u001b[A\n",
      "\n",
      "K-Folds: 3it [00:39, 12.71s/it]\u001b[A\u001b[A\n",
      "\n",
      "                               \u001b[A\u001b[A\n",
      "Param Combinations: 100%|██████████| 16/16 [08:20<00:00, 36.66s/it]\u001b[A\n",
      "Models:  50%|█████     | 1/2 [08:20<08:20, 500.39s/it]             \u001b[A\n",
      "Param Combinations:   0%|          | 0/6 [00:00<?, ?it/s]\u001b[A\n",
      "\n",
      "K-Folds: 0it [00:00, ?it/s]\u001b[A\u001b[A\n",
      "\n",
      "K-Folds: 1it [00:15, 15.57s/it]\u001b[A\u001b[A\n",
      "\n",
      "K-Folds: 2it [00:30, 15.46s/it]\u001b[A\u001b[A\n",
      "\n",
      "K-Folds: 3it [00:46, 15.52s/it]\u001b[A\u001b[A\n",
      "\n",
      "                               \u001b[A\u001b[A\n",
      "Param Combinations:  17%|█▋        | 1/6 [00:46<03:52, 46.55s/it]\u001b[A\n",
      "\n",
      "K-Folds: 0it [00:00, ?it/s]\u001b[A\u001b[A\n",
      "\n",
      "K-Folds: 1it [00:15, 15.59s/it]\u001b[A\u001b[A\n",
      "\n",
      "K-Folds: 2it [00:31, 15.55s/it]\u001b[A\u001b[A\n",
      "\n",
      "K-Folds: 3it [00:46, 15.57s/it]\u001b[A\u001b[A\n",
      "\n",
      "                               \u001b[A\u001b[A\n",
      "Param Combinations:  33%|███▎      | 2/6 [01:33<03:06, 46.65s/it]\u001b[A\n",
      "\n",
      "K-Folds: 0it [00:00, ?it/s]\u001b[A\u001b[A/wynton/protected/home/sirota/ykatsuhara/.local/lib/python3.7/site-packages/sklearn/linear_model/_sag.py:354: ConvergenceWarning: The max_iter was reached which means the coef_ did not converge\n",
      "  ConvergenceWarning,\n",
      "\n",
      "\n",
      "K-Folds: 1it [00:39, 39.74s/it]\u001b[A\u001b[A/wynton/protected/home/sirota/ykatsuhara/.local/lib/python3.7/site-packages/sklearn/linear_model/_sag.py:354: ConvergenceWarning: The max_iter was reached which means the coef_ did not converge\n",
      "  ConvergenceWarning,\n",
      "\n",
      "\n",
      "K-Folds: 2it [01:19, 39.55s/it]\u001b[A\u001b[A/wynton/protected/home/sirota/ykatsuhara/.local/lib/python3.7/site-packages/sklearn/linear_model/_sag.py:354: ConvergenceWarning: The max_iter was reached which means the coef_ did not converge\n",
      "  ConvergenceWarning,\n",
      "\n",
      "\n",
      "K-Folds: 3it [01:58, 39.45s/it]\u001b[A\u001b[A\n",
      "\n",
      "                               \u001b[A\u001b[A\n",
      "Param Combinations:  50%|█████     | 3/6 [03:31<03:58, 79.46s/it]\u001b[A\n",
      "\n",
      "K-Folds: 0it [00:00, ?it/s]\u001b[A\u001b[A/wynton/protected/home/sirota/ykatsuhara/.local/lib/python3.7/site-packages/sklearn/linear_model/_sag.py:354: ConvergenceWarning: The max_iter was reached which means the coef_ did not converge\n",
      "  ConvergenceWarning,\n",
      "\n",
      "\n",
      "K-Folds: 1it [01:00, 60.64s/it]\u001b[A\u001b[A/wynton/protected/home/sirota/ykatsuhara/.local/lib/python3.7/site-packages/sklearn/linear_model/_sag.py:354: ConvergenceWarning: The max_iter was reached which means the coef_ did not converge\n",
      "  ConvergenceWarning,\n",
      "\n",
      "\n",
      "K-Folds: 2it [01:59, 59.51s/it]\u001b[A\u001b[A/wynton/protected/home/sirota/ykatsuhara/.local/lib/python3.7/site-packages/sklearn/linear_model/_sag.py:354: ConvergenceWarning: The max_iter was reached which means the coef_ did not converge\n",
      "  ConvergenceWarning,\n",
      "\n",
      "\n",
      "K-Folds: 3it [02:58, 59.29s/it]\u001b[A\u001b[A\n",
      "\n",
      "                               \u001b[A\u001b[A\n",
      "Param Combinations:  67%|██████▋   | 4/6 [06:30<03:57, 118.52s/it]\u001b[A\n",
      "\n",
      "K-Folds: 0it [00:00, ?it/s]\u001b[A\u001b[A/wynton/protected/home/sirota/ykatsuhara/.local/lib/python3.7/site-packages/sklearn/linear_model/_sag.py:354: ConvergenceWarning: The max_iter was reached which means the coef_ did not converge\n",
      "  ConvergenceWarning,\n",
      "\n",
      "\n",
      "K-Folds: 1it [00:39, 39.32s/it]\u001b[A\u001b[A/wynton/protected/home/sirota/ykatsuhara/.local/lib/python3.7/site-packages/sklearn/linear_model/_sag.py:354: ConvergenceWarning: The max_iter was reached which means the coef_ did not converge\n",
      "  ConvergenceWarning,\n",
      "\n",
      "\n",
      "K-Folds: 2it [01:18, 39.25s/it]\u001b[A\u001b[A/wynton/protected/home/sirota/ykatsuhara/.local/lib/python3.7/site-packages/sklearn/linear_model/_sag.py:354: ConvergenceWarning: The max_iter was reached which means the coef_ did not converge\n",
      "  ConvergenceWarning,\n",
      "\n",
      "\n",
      "K-Folds: 3it [01:57, 39.17s/it]\u001b[A\u001b[A\n",
      "\n",
      "                               \u001b[A\u001b[A\n",
      "Param Combinations:  83%|████████▎ | 5/6 [08:27<01:58, 118.20s/it]\u001b[A\n",
      "\n",
      "K-Folds: 0it [00:00, ?it/s]\u001b[A\u001b[A/wynton/protected/home/sirota/ykatsuhara/.local/lib/python3.7/site-packages/sklearn/linear_model/_sag.py:354: ConvergenceWarning: The max_iter was reached which means the coef_ did not converge\n",
      "  ConvergenceWarning,\n",
      "\n",
      "\n",
      "K-Folds: 1it [00:58, 58.63s/it]\u001b[A\u001b[A/wynton/protected/home/sirota/ykatsuhara/.local/lib/python3.7/site-packages/sklearn/linear_model/_sag.py:354: ConvergenceWarning: The max_iter was reached which means the coef_ did not converge\n",
      "  ConvergenceWarning,\n",
      "\n",
      "\n",
      "K-Folds: 2it [01:57, 58.73s/it]\u001b[A\u001b[A/wynton/protected/home/sirota/ykatsuhara/.local/lib/python3.7/site-packages/sklearn/linear_model/_sag.py:354: ConvergenceWarning: The max_iter was reached which means the coef_ did not converge\n",
      "  ConvergenceWarning,\n",
      "\n",
      "\n",
      "K-Folds: 3it [02:56, 58.76s/it]\u001b[A\u001b[A\n",
      "\n",
      "                               \u001b[A\u001b[A\n",
      "Param Combinations: 100%|██████████| 6/6 [11:24<00:00, 137.93s/it]\u001b[A\n",
      "Models: 100%|██████████| 2/2 [19:44<00:00, 592.22s/it]            \u001b[A"
     ]
    },
    {
     "name": "stdout",
     "output_type": "stream",
     "text": [
      "Best Model: XGBClassifier(base_score=0.5, booster='gbtree', callbacks=None,\n",
      "              colsample_bylevel=1, colsample_bynode=1, colsample_bytree=1,\n",
      "              early_stopping_rounds=None, enable_categorical=False,\n",
      "              eval_metric=None, gamma=5, gpu_id=-1, grow_policy='depthwise',\n",
      "              importance_type=None, interaction_constraints='',\n",
      "              learning_rate=0.2, max_bin=256, max_cat_to_onehot=4,\n",
      "              max_delta_step=0, max_depth=5, max_leaves=0, min_child_weight=3,\n",
      "              missing=nan, monotone_constraints='()', n_estimators=700,\n",
      "              n_jobs=0, num_parallel_tree=1, predictor='auto', random_state=42,\n",
      "              reg_alpha=0, reg_lambda=1, ...)\n"
     ]
    },
    {
     "name": "stderr",
     "output_type": "stream",
     "text": [
      "\n"
     ]
    }
   ],
   "source": [
    "#3. Train models over K splits (use k-fold or train/test split)\n",
    "#    1. Split train using k-fold with the number of folds equal to the number of parameter combinations\n",
    "#    2. Train on k-fold split\n",
    "#    3. Record performance of each set of parameters\n",
    "#    4. Use winning set of parameters to train model on full training set\n",
    "#    5. Record each model's performance on that split's test set\n",
    "\n",
    "# Set models\n",
    "models = [\n",
    "    (XGBClassifier(), xgb_param_grid),\n",
    "    (LogisticRegression(), lr_param_grid)\n",
    "\n",
    "]\n",
    "\n",
    "# Define how many folds you want to split on\n",
    "kf = KFold(n_splits=3, shuffle=True, random_state=42)\n",
    "\n",
    "# Initialize best score and best model\n",
    "best_score = 0\n",
    "best_model = None\n",
    "\n",
    "scaler = StandardScaler()\n",
    "\n",
    "for model, param_grid in tqdm(list(models), desc='Models'):\n",
    "    \n",
    "    for param_combination in tqdm(list(product(*param_grid.values())), desc='Param Combinations', leave=False):\n",
    "        param_dict = dict(zip(param_grid.keys(), param_combination))\n",
    "        model.set_params(**param_dict)\n",
    "        fold_scores = []\n",
    "        \n",
    "        for train_index, test_index in tqdm(kf.split(X_train), desc='K-Folds', leave=False):\n",
    "            # Check model type and apply scaling if needed\n",
    "            if isinstance(model, LogisticRegression):\n",
    "                # Note: You should fit the scaler on the training data only\n",
    "                X_fold_train_scaled = scaler.fit_transform(X_train.iloc[train_index]['image_flat'].tolist())\n",
    "                X_fold_test_scaled = scaler.transform(X_train.iloc[test_index]['image_flat'].tolist())\n",
    "                X_fold_train_use, X_fold_test_use = X_fold_train_scaled, X_fold_test_scaled\n",
    "            else:\n",
    "                X_fold_train_use = X_train.iloc[train_index]['image_flat'].tolist()\n",
    "                X_fold_test_use = X_train.iloc[test_index]['image_flat'].tolist()\n",
    "                \n",
    "            y_fold_train, y_fold_test = y_train.iloc[train_index], y_train.iloc[test_index]\n",
    "\n",
    "            # Train on k-fold split\n",
    "            model.fit(X_fold_train_use, y_fold_train)\n",
    "            \n",
    "            # Record performance of each set of parameters\n",
    "            y_pred = model.predict(X_fold_test_use)\n",
    "            fold_score = f1_score(y_fold_test, y_pred, average='weighted', zero_division=0)\n",
    "            fold_scores.append(fold_score)\n",
    "\n",
    "        # Use the winning set of parameters to train the model on the full training set\n",
    "        avg_score = np.mean(fold_scores)\n",
    "        if avg_score > best_score:\n",
    "            best_score = avg_score\n",
    "            best_model = model\n",
    "\n",
    "# Print the best model\n",
    "print(\"Best Model:\", best_model)"
   ]
  },
  {
   "cell_type": "code",
   "execution_count": 40,
   "metadata": {},
   "outputs": [
    {
     "name": "stdout",
     "output_type": "stream",
     "text": [
      "Best Model Parameters: XGBClassifier(base_score=0.5, booster='gbtree', callbacks=None,\n",
      "              colsample_bylevel=1, colsample_bynode=1, colsample_bytree=1,\n",
      "              early_stopping_rounds=None, enable_categorical=False,\n",
      "              eval_metric=None, gamma=5, gpu_id=-1, grow_policy='depthwise',\n",
      "              importance_type=None, interaction_constraints='',\n",
      "              learning_rate=0.2, max_bin=256, max_cat_to_onehot=4,\n",
      "              max_delta_step=0, max_depth=5, max_leaves=0, min_child_weight=3,\n",
      "              missing=nan, monotone_constraints='()', n_estimators=700,\n",
      "              n_jobs=0, num_parallel_tree=1, predictor='auto', random_state=42,\n",
      "              reg_alpha=0, reg_lambda=1, ...)\n",
      "Best Model Average Cross-Validation Score: 0.8152924998006736\n"
     ]
    }
   ],
   "source": [
    "print(f\"Best Model Parameters: {best_model}\")\n",
    "print(f\"Best Model Average Cross-Validation Score: {best_score}\")"
   ]
  },
  {
   "cell_type": "code",
   "execution_count": 41,
   "metadata": {},
   "outputs": [
    {
     "data": {
      "text/plain": [
       "{'objective': 'binary:logistic',\n",
       " 'use_label_encoder': False,\n",
       " 'base_score': 0.5,\n",
       " 'booster': 'gbtree',\n",
       " 'callbacks': None,\n",
       " 'colsample_bylevel': 1,\n",
       " 'colsample_bynode': 1,\n",
       " 'colsample_bytree': 1,\n",
       " 'early_stopping_rounds': None,\n",
       " 'enable_categorical': False,\n",
       " 'eval_metric': None,\n",
       " 'gamma': 5,\n",
       " 'gpu_id': -1,\n",
       " 'grow_policy': 'depthwise',\n",
       " 'importance_type': None,\n",
       " 'interaction_constraints': '',\n",
       " 'learning_rate': 0.2,\n",
       " 'max_bin': 256,\n",
       " 'max_cat_to_onehot': 4,\n",
       " 'max_delta_step': 0,\n",
       " 'max_depth': 5,\n",
       " 'max_leaves': 0,\n",
       " 'min_child_weight': 3,\n",
       " 'missing': nan,\n",
       " 'monotone_constraints': '()',\n",
       " 'n_estimators': 700,\n",
       " 'n_jobs': 0,\n",
       " 'num_parallel_tree': 1,\n",
       " 'predictor': 'auto',\n",
       " 'random_state': 42,\n",
       " 'reg_alpha': 0,\n",
       " 'reg_lambda': 1,\n",
       " 'sampling_method': 'uniform',\n",
       " 'scale_pos_weight': 1,\n",
       " 'subsample': 0.5,\n",
       " 'tree_method': 'exact',\n",
       " 'validate_parameters': 1,\n",
       " 'verbosity': None}"
      ]
     },
     "execution_count": 41,
     "metadata": {},
     "output_type": "execute_result"
    }
   ],
   "source": [
    "# Get all parameters of the best model\n",
    "best_model.get_params()"
   ]
  },
  {
   "cell_type": "code",
   "execution_count": 42,
   "metadata": {},
   "outputs": [
    {
     "data": {
      "text/plain": [
       "XGBClassifier(base_score=0.5, booster='gbtree', callbacks=None,\n",
       "              colsample_bylevel=1, colsample_bynode=1, colsample_bytree=1,\n",
       "              early_stopping_rounds=None, enable_categorical=False,\n",
       "              eval_metric=None, gamma=5, gpu_id=-1, grow_policy='depthwise',\n",
       "              importance_type=None, interaction_constraints='',\n",
       "              learning_rate=0.2, max_bin=256, max_cat_to_onehot=4,\n",
       "              max_delta_step=0, max_depth=5, max_leaves=0, min_child_weight=3,\n",
       "              missing=nan, monotone_constraints='()', n_estimators=700,\n",
       "              n_jobs=0, num_parallel_tree=1, predictor='auto', random_state=42,\n",
       "              reg_alpha=0, reg_lambda=1, ...)"
      ]
     },
     "execution_count": 42,
     "metadata": {},
     "output_type": "execute_result"
    }
   ],
   "source": [
    "# 4. Use winning set of parameters to train model on full training set\n",
    "best_model.fit(X_train['image_flat'].tolist(), y_train)"
   ]
  },
  {
   "cell_type": "code",
   "execution_count": 43,
   "metadata": {},
   "outputs": [],
   "source": [
    "# 5. Record each model's performance on that split's test set\n",
    "y_val_pred = best_model.predict(X_val['image_flat'].tolist())"
   ]
  },
  {
   "cell_type": "code",
   "execution_count": 44,
   "metadata": {},
   "outputs": [],
   "source": [
    "# Calculate performance metrics\n",
    "acc = accuracy_score(y_val, y_val_pred)\n",
    "prec = precision_score(y_val, y_val_pred,average='weighted',zero_division=0)\n",
    "rec = recall_score(y_val, y_val_pred,average='weighted',zero_division=0)\n",
    "f1 = f1_score(y_val, y_val_pred,average='weighted',zero_division=0)\n",
    "cm = confusion_matrix(y_val, y_val_pred)"
   ]
  },
  {
   "cell_type": "code",
   "execution_count": 45,
   "metadata": {},
   "outputs": [],
   "source": [
    "task = \"the upper vs lowercase\"\n",
    "model_name = \"xgboost\""
   ]
  },
  {
   "cell_type": "code",
   "execution_count": 46,
   "metadata": {},
   "outputs": [],
   "source": [
    "metrics_dict = {\n",
    "    'the upper vs lowercase': {\n",
    "        'xgboost': {\n",
    "            'accuracy': [],\n",
    "            'precision': [],\n",
    "            'recall': [],\n",
    "            'f1': []\n",
    "        }\n",
    "    }\n",
    "}"
   ]
  },
  {
   "cell_type": "code",
   "execution_count": 47,
   "metadata": {},
   "outputs": [],
   "source": [
    "# Store the results to metrics_dict\n",
    "metrics_dict[task][model_name] = {'accuracy': acc,\n",
    "                                  'precision': prec,\n",
    "                                  'recall': rec,\n",
    "                                  'f1': f1,\n",
    "                                  }"
   ]
  },
  {
   "cell_type": "code",
   "execution_count": 48,
   "metadata": {},
   "outputs": [
    {
     "data": {
      "text/markdown": [
       "# Performance Metrics: xgboost"
      ],
      "text/plain": [
       "<IPython.core.display.Markdown object>"
      ]
     },
     "metadata": {},
     "output_type": "display_data"
    },
    {
     "data": {
      "text/html": [
       "<div>\n",
       "<style scoped>\n",
       "    .dataframe tbody tr th:only-of-type {\n",
       "        vertical-align: middle;\n",
       "    }\n",
       "\n",
       "    .dataframe tbody tr th {\n",
       "        vertical-align: top;\n",
       "    }\n",
       "\n",
       "    .dataframe thead th {\n",
       "        text-align: right;\n",
       "    }\n",
       "</style>\n",
       "<table border=\"1\" class=\"dataframe\">\n",
       "  <thead>\n",
       "    <tr style=\"text-align: right;\">\n",
       "      <th></th>\n",
       "      <th>accuracy</th>\n",
       "      <th>precision</th>\n",
       "      <th>recall</th>\n",
       "      <th>f1</th>\n",
       "    </tr>\n",
       "  </thead>\n",
       "  <tbody>\n",
       "    <tr>\n",
       "      <th>0</th>\n",
       "      <td>0.814583</td>\n",
       "      <td>0.815332</td>\n",
       "      <td>0.814583</td>\n",
       "      <td>0.813767</td>\n",
       "    </tr>\n",
       "  </tbody>\n",
       "</table>\n",
       "</div>"
      ],
      "text/plain": [
       "   accuracy  precision    recall        f1\n",
       "0  0.814583   0.815332  0.814583  0.813767"
      ]
     },
     "metadata": {},
     "output_type": "display_data"
    }
   ],
   "source": [
    "# Display performance metrics\n",
    "display_metrics(task, model_name, metrics_dict)"
   ]
  },
  {
   "cell_type": "code",
   "execution_count": null,
   "metadata": {},
   "outputs": [],
   "source": []
  }
 ],
 "metadata": {
  "kernelspec": {
   "display_name": "Python 3",
   "language": "python",
   "name": "python3"
  },
  "language_info": {
   "codemirror_mode": {
    "name": "ipython",
    "version": 3
   },
   "file_extension": ".py",
   "mimetype": "text/x-python",
   "name": "python",
   "nbconvert_exporter": "python",
   "pygments_lexer": "ipython3",
   "version": "3.12.1"
  }
 },
 "nbformat": 4,
 "nbformat_minor": 4
}
